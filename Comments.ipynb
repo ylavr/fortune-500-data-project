{
 "cells": [
  {
   "cell_type": "markdown",
   "source": [
    "The Fortune 500 dataset typically includes information about the largest companies in the United States based on their revenue. Here are some measures and questions you could consider:\n",
    "\n",
    "можно проверить сокращения\n",
    "\n",
    "Measures:\n",
    "\n",
    "Revenue Growth Rate: Calculate the year-over-year growth rate of revenue for each company. This can help you identify which companies are experiencing rapid growth.\n",
    "\n",
    "Profit Margin: Calculate the profit margin (net income as a percentage of revenue) for each company. This indicates how efficiently a company is generating profit from its revenue.\n",
    "\n",
    "\n",
    "Employee Growth: Analyze the growth rate of the number of employees for each company over the years. This could show how companies are scaling in terms of their workforce.\n",
    "\n",
    "Industry Distribution: Break down the Fortune 500 companies by industry to see which industries are dominating the list.\n",
    "\n",
    "Questions:\n",
    "\n",
    "Which Companies Have the Highest Revenue?: Identify the top revenue-generating companies for each year and compare them across the years.\n",
    "\n",
    "Are There Consistent Top Performers?: Are there companies that consistently appear in the top ranks across the years? What factors might contribute to their sustained success?\n",
    "\n",
    "Which Industries Are Dominant?: Which industries are represented the most in the Fortune 500 list? Is there a shift in the dominance of certain industries over the years?\n",
    "\n",
    "How Did the COVID-19 Pandemic Impact Revenues?: Analyze the revenue and profit changes from 2019 to 2020 to see how the pandemic affected companies' financial performance.\n",
    "\n",
    "Are There Any Correlations Between Employee Growth and Revenue?: Investigate whether there's a relationship between a company's revenue growth and its employee growth.\n",
    "\n",
    "What's the Distribution of Company Sizes?: Analyze the distribution of companies based on their revenue sizes. Are there more small, medium, or large companies in the list?\n",
    "\n",
    "How Have Tech Companies Fared?: If applicable, examine the performance of technology companies compared to companies in other industries.\n",
    "\n",
    "Is Profitability Increasing or Decreasing?: Look at the trend in profit margins over the years. Are companies becoming more profitable or less?\n",
    "\n",
    "What's the Geographic Distribution?: If available, explore the geographic distribution of Fortune 500 companies. Which regions are home to the most companies?\n",
    "\n",
    "Did Any Companies Experience Rapid Decline?: Identify companies that were once high on the list but dropped significantly in terms of revenue. Investigate the reasons behind their decline."
   ],
   "metadata": {}
  },
  {
   "cell_type": "markdown",
   "source": [
    "Intro:"
   ],
   "metadata": {}
  },
  {
   "cell_type": "markdown",
   "source": [
    "Historically, companies featured in the Fortune 500 list are considered amongst the best American businesses. The companies are ranked by revenue, but other relevant information is included such as the location of the company’s headquarters, and the sector it belongs in. This analysis seeks to explore the companies featured in the Fortune 1000 list and identify any interesting trends."
   ],
   "metadata": {}
  },
  {
   "cell_type": "markdown",
   "source": [
    "Data source: Kaggle.com"
   ],
   "metadata": {}
  },
  {
   "cell_type": "markdown",
   "source": [
    "рассчитать из сколько секторов топ\n",
    "рассчитать из скольки стран топ\n",
    "сделать график с сотрудниками\n",
    "в сиквеле добавит столбцы с вычислениями изменения рейтинга и \n",
    "подумать над сокращениями в индустриях из за ковида\n",
    "удалить лишние библиотеки\n",
    "#Revenues Compared to Workforce"
   ],
   "metadata": {}
  },
  {
   "cell_type": "code",
   "execution_count": null,
   "source": [
    "employees_count_df.loc[(employees_count_df['year'] == 2019) & (employees_count_df['industry'] == 'Airlines' )]"
   ],
   "outputs": [],
   "metadata": {
    "vscode": {
     "languageId": "plaintext"
    }
   }
  },
  {
   "cell_type": "code",
   "execution_count": null,
   "source": [
    "years = sorted(df['year'].unique())\r\n",
    "areas = sorted(df['industry'].unique())\r\n",
    "areas_data = {}\r\n",
    "for year in years:\r\n",
    "    for area in areas:\r\n",
    "        if areas_data.get(df['']):\r\n",
    "            employees_count_df.loc[(df['year'] == year) & (df['industry'] == area )]\r\n",
    "            \r\n",
    "for index, row in employees_count_df.iterrows():\r\n",
    "    if areas_data.get(row['industry']):\r\n",
    "        areas_data.get(row['industry']).append(row['employees'])\r\n",
    "    else:\r\n",
    "        areas_data.update({row['industry']:[row['employees']]})\r\n",
    "\r\n",
    "areas_data"
   ],
   "outputs": [],
   "metadata": {
    "vscode": {
     "languageId": "plaintext"
    }
   }
  }
 ],
 "metadata": {
  "language_info": {
   "name": "python"
  },
  "orig_nbformat": 4
 },
 "nbformat": 4,
 "nbformat_minor": 2
}